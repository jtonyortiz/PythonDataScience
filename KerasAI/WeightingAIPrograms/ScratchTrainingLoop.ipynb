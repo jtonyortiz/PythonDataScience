{
 "cells": [
  {
   "cell_type": "code",
   "execution_count": 22,
   "id": "12ae9552-55d6-4780-a41e-48c1c602a2e0",
   "metadata": {},
   "outputs": [],
   "source": [
    "import os\n",
    "\n",
    "os.environ[\"KERAS_BACKEND\"] = \"torch\"\n",
    "\n",
    "import torch \n",
    "import keras \n",
    "import numpy as np"
   ]
  },
  {
   "cell_type": "markdown",
   "id": "001db9f3-ad85-4c97-b9b3-47b12ef263f1",
   "metadata": {},
   "source": [
    "To write a custom training loop, we need the following ingredients:\n",
    "\n",
    "- A model to train, of course.\n",
    "- An optimizer. You could either use a keras.optimizers optimizer, or a native PyTorch optimizer from torch.optim.\n",
    "- A loss function. You could either use a keras.losses loss, or a native PyTorch loss from torch.nn.\n",
    "- A dataset. You could use any format: a tf.data.Dataset, a PyTorch DataLoader, a Python generator, etc.\n",
    "- Let's line them up. We'll use torch-native objects in each case – except, of course, for the Keras model."
   ]
  },
  {
   "cell_type": "code",
   "execution_count": 36,
   "id": "2d069cad-d43c-4c0b-8e3c-a9c51aa157d6",
   "metadata": {},
   "outputs": [],
   "source": [
    "def __init__(self, model, pool):\n",
    "        super(Model, self).__init__()\n",
    "\n",
    "# Let's consider a simple MNIST model\n",
    "def get_model():\n",
    "    inputs = keras.Input(shape=(784,), name=\"digits\")\n",
    "    x1 = keras.layers.Dense(64, activation=\"relu\")(inputs)\n",
    "    x2 = keras.layers.Dense(64, activation=\"relu\")(x1)\n",
    "    outputs = keras.layers.Dense(10, name=\"predictions\")(x2)\n",
    "    model = keras.Model(inputs=inputs, outputs=outputs)\n",
    "    return model\n",
    "\n",
    "\n",
    "# Create load up the MNIST dataset and put it in a torch DataLoader\n",
    "# Prepare the training dataset.\n",
    "batch_size = 32\n",
    "(x_train, y_train), (x_test, y_test) = keras.datasets.mnist.load_data()\n",
    "x_train = np.reshape(x_train, (-1, 784)).astype(\"float32\")\n",
    "x_test = np.reshape(x_test, (-1, 784)).astype(\"float32\")\n",
    "y_train = keras.utils.to_categorical(y_train)\n",
    "y_test = keras.utils.to_categorical(y_test)\n",
    "\n",
    "# Reserve 10,000 samples for validation.\n",
    "x_val = x_train[-10000:]\n",
    "y_val = y_train[-10000:]\n",
    "x_train = x_train[:-10000]\n",
    "y_train = y_train[:-10000]\n",
    "\n",
    "# Create torch Datasets\n",
    "train_dataset = torch.utils.data.TensorDataset(\n",
    "    torch.from_numpy(x_train), torch.from_numpy(y_train)\n",
    ")\n",
    "val_dataset = torch.utils.data.TensorDataset(\n",
    "    torch.from_numpy(x_val), torch.from_numpy(y_val)\n",
    ")\n",
    "\n",
    "# Create DataLoaders for the Datasets\n",
    "train_dataloader = torch.utils.data.DataLoader(\n",
    "    train_dataset, batch_size=batch_size, shuffle=True\n",
    ")\n",
    "val_dataloader = torch.utils.data.DataLoader(\n",
    "    val_dataset, batch_size=batch_size, shuffle=False\n",
    ")"
   ]
  },
  {
   "cell_type": "markdown",
   "id": "835d4e5d-38b3-47ad-ae9d-92bf65d94e41",
   "metadata": {},
   "source": [
    "### Next, here's our PyTorch optimizer and our PyTorch loss function:"
   ]
  },
  {
   "cell_type": "code",
   "execution_count": 42,
   "id": "d1ad12a5-c5db-4838-a27d-269f482ea959",
   "metadata": {},
   "outputs": [],
   "source": [
    "model = get_model()\n",
    "optimizer = keras.optimizers.Adam(learning_rate=1e-3)\n",
    "loss_fn = keras.losses.CategoricalCrossentropy(from_logits=True)"
   ]
  },
  {
   "cell_type": "code",
   "execution_count": null,
   "id": "2c0126ac-2ec1-4f26-bd9e-26afda576ef7",
   "metadata": {},
   "outputs": [],
   "source": []
  }
 ],
 "metadata": {
  "kernelspec": {
   "display_name": "Python 3 (ipykernel)",
   "language": "python",
   "name": "python3"
  },
  "language_info": {
   "codemirror_mode": {
    "name": "ipython",
    "version": 3
   },
   "file_extension": ".py",
   "mimetype": "text/x-python",
   "name": "python",
   "nbconvert_exporter": "python",
   "pygments_lexer": "ipython3",
   "version": "3.10.12"
  }
 },
 "nbformat": 4,
 "nbformat_minor": 5
}
