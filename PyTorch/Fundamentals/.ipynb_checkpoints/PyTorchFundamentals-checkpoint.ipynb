{
 "cells": [
  {
   "cell_type": "markdown",
   "id": "0948bdcd-f2bc-496f-9daa-b3a33b68024a",
   "metadata": {},
   "source": [
    "## Introduction to PyTorch"
   ]
  },
  {
   "cell_type": "code",
   "execution_count": 2,
   "id": "fa07b7f3-7b09-4ca4-8a79-14fddbac74ea",
   "metadata": {},
   "outputs": [
    {
     "name": "stdout",
     "output_type": "stream",
     "text": [
      "2.4.0+cu118\n"
     ]
    }
   ],
   "source": [
    "import torch\n",
    "print(torch.__version__)"
   ]
  },
  {
   "cell_type": "markdown",
   "id": "01a61aab-7814-4f3f-82d3-efdff0ee927f",
   "metadata": {},
   "source": [
    "Now we've got PyTorch imported, it's time to learn about tensors.\n",
    "\n",
    "Tensors are the fundamental building block of machine learning.\n",
    "\n",
    "Their job is to represent data in a numerical way.\n",
    "\n",
    "For example, you could represent an image as a tensor with shape [3, 224, 224] which would mean [colour_channels, height, width], as in the image has 3 colour channels (red, green, blue), a height of 224 pixels and a width of 224 pixels."
   ]
  },
  {
   "cell_type": "markdown",
   "id": "0e7a30f5-68f9-4021-a78d-4c35e724b85f",
   "metadata": {},
   "source": [
    "In tensor-speak (the language used to describe tensors), the tensor would have three dimensions, one for colour_channels, height and width.\n",
    "\n",
    "But we're getting ahead of ourselves.\n",
    "\n",
    "Let's learn more about tensors by coding them."
   ]
  },
  {
   "cell_type": "markdown",
   "id": "2c55771e-50f5-49ea-a4c1-688cf4245e45",
   "metadata": {},
   "source": [
    "### Creating Tensors"
   ]
  },
  {
   "cell_type": "markdown",
   "id": "49f718de-61a9-41f8-be9f-717996d0358f",
   "metadata": {},
   "source": [
    "\n",
    "The first thing we're going to create is a scalar.\n",
    "\n",
    "A scalar is a single number and in tensor-speak it's a zero dimension tensor."
   ]
  },
  {
   "cell_type": "code",
   "execution_count": 10,
   "id": "a2b3513e-4046-4fa2-95c9-6eec9ef2af6c",
   "metadata": {},
   "outputs": [
    {
     "name": "stdout",
     "output_type": "stream",
     "text": [
      "Scalar value is: \n"
     ]
    },
    {
     "data": {
      "text/plain": [
       "7"
      ]
     },
     "execution_count": 10,
     "metadata": {},
     "output_type": "execute_result"
    }
   ],
   "source": [
    "# Creating a basic scalar\n",
    "scalarValue = torch.tensor(7)\n",
    "# Print the value:\n",
    "print(\"Scalar value is: \")\n",
    "scalarValue.item()"
   ]
  },
  {
   "cell_type": "markdown",
   "id": "46f78b1a-771c-495f-b70d-5ba74b064680",
   "metadata": {},
   "source": [
    "We can check the dimensions of the tensor useing the `ndim` atttribute "
   ]
  },
  {
   "cell_type": "code",
   "execution_count": 11,
   "id": "165845ae-b726-401e-bc0e-03e365097acb",
   "metadata": {},
   "outputs": [
    {
     "data": {
      "text/plain": [
       "0"
      ]
     },
     "execution_count": 11,
     "metadata": {},
     "output_type": "execute_result"
    }
   ],
   "source": [
    "# Checking the dimensions of the tensor object:\n",
    "scalarValue.ndim"
   ]
  },
  {
   "cell_type": "markdown",
   "id": "b30057c0-365d-4381-8ea6-c72a8236d223",
   "metadata": {},
   "source": [
    "## Vectors in PyTorch"
   ]
  },
  {
   "cell_type": "markdown",
   "id": "882f9510-937c-4f14-a03f-ca4d6652e85d",
   "metadata": {},
   "source": [
    "A `vector` is a single-dimension tensor, but can contain multiple numbers"
   ]
  },
  {
   "cell_type": "code",
   "execution_count": 12,
   "id": "1d700a69-2d3c-451c-8960-0bd5b499d2ec",
   "metadata": {},
   "outputs": [],
   "source": [
    "# Vector Examples:\n",
    "sampleVector = torch.tensor([7, 7])"
   ]
  },
  {
   "cell_type": "markdown",
   "id": "e1517c8e-3c0e-4663-9903-d17c866c2307",
   "metadata": {},
   "source": [
    "As we saw previously, we can then check the number of dimensions through the `ndim` attribute, as we will see it will be one dimensional:"
   ]
  },
  {
   "cell_type": "code",
   "execution_count": 14,
   "id": "fe5baa2d-026c-4e09-a6fc-fbaed9a7a374",
   "metadata": {},
   "outputs": [
    {
     "data": {
      "text/plain": [
       "1"
      ]
     },
     "execution_count": 14,
     "metadata": {},
     "output_type": "execute_result"
    }
   ],
   "source": [
    "# Checking number of dumensions:\n",
    "sampleVector.ndim"
   ]
  },
  {
   "cell_type": "markdown",
   "id": "bd1bae8f-536a-4f80-ad5c-3de2bcf481ed",
   "metadata": {},
   "source": [
    "Now, we can check the size of the vector through the `shape` attribute, here, we can see that the size is 2.\n",
    "The reason for this is because the vector holds two values:"
   ]
  },
  {
   "cell_type": "code",
   "execution_count": 19,
   "id": "37311e53-99c5-44c6-8049-7ee6649fffb8",
   "metadata": {},
   "outputs": [
    {
     "data": {
      "text/plain": [
       "torch.Size([2])"
      ]
     },
     "execution_count": 19,
     "metadata": {},
     "output_type": "execute_result"
    }
   ],
   "source": [
    "#Checking the size of the vector:\n",
    "sampleVector.shape"
   ]
  },
  {
   "cell_type": "markdown",
   "id": "a71068f4-88ee-4f54-9f61-42f6d57f5631",
   "metadata": {},
   "source": [
    "### Matrices in PyTorch"
   ]
  },
  {
   "cell_type": "markdown",
   "id": "77c4a839-aa4e-4f42-a2ad-3b14a48c2bfc",
   "metadata": {},
   "source": [
    "A `matrix` is a two-dimensional array of numbers. \n",
    "Below is an example of a matrix created with the PyTorch library:"
   ]
  },
  {
   "cell_type": "code",
   "execution_count": 22,
   "id": "124ab805-48ff-46e5-b6d3-732da2f629cb",
   "metadata": {},
   "outputs": [],
   "source": [
    "#Creating a 2x2 matrix example below:\n",
    "sampleMatrix = torch.tensor([[1, 2],\n",
    "                             [3, 4]])\n"
   ]
  },
  {
   "cell_type": "markdown",
   "id": "f51a4aec-800c-432a-9b6b-d2f57c4d1ab8",
   "metadata": {},
   "source": [
    "Now, we can check the number of dimensions useing `ndim`:"
   ]
  },
  {
   "cell_type": "code",
   "execution_count": 23,
   "id": "3cddc1e2-df0c-412d-88da-82378319af91",
   "metadata": {},
   "outputs": [
    {
     "data": {
      "text/plain": [
       "2"
      ]
     },
     "execution_count": 23,
     "metadata": {},
     "output_type": "execute_result"
    }
   ],
   "source": [
    "sampleMatrix.ndim"
   ]
  },
  {
   "cell_type": "markdown",
   "id": "1b064be1-8493-4a22-aa4b-aaa6b7fda2a2",
   "metadata": {},
   "source": [
    "We can check the shape of the matrix via the `shape` attribute:"
   ]
  },
  {
   "cell_type": "code",
   "execution_count": 24,
   "id": "e6f9c638-0700-4e8f-9462-b044927e4ab9",
   "metadata": {},
   "outputs": [
    {
     "data": {
      "text/plain": [
       "torch.Size([2, 2])"
      ]
     },
     "execution_count": 24,
     "metadata": {},
     "output_type": "execute_result"
    }
   ],
   "source": [
    "sampleMatrix.shape"
   ]
  },
  {
   "cell_type": "markdown",
   "id": "9f89ce11-44f1-49f8-8236-8756e80f7ee9",
   "metadata": {},
   "source": [
    "## Notations when useing values\n"
   ]
  },
  {
   "cell_type": "markdown",
   "id": "04173273-6226-4faa-bd77-0906abe76abb",
   "metadata": {},
   "source": [
    " - Note, when useing values with the PyTorch Library\n",
    " - Matrices and tensors are usually assigned with capital letters in their variables (ex. `MATRIX`, `TENSOR`)\n",
    "-  However, scalars are usually assigned witha lower case value (ex. `x_val`, `y_val`)"
   ]
  },
  {
   "cell_type": "markdown",
   "id": "5409515b-695f-4dc2-9ade-bde97b1c25b9",
   "metadata": {},
   "source": [
    "### Basic Tensors in PyTorch"
   ]
  },
  {
   "cell_type": "markdown",
   "id": "2ab7fcba-3515-4623-a075-8dc9f10fdf97",
   "metadata": {},
   "source": [
    "Now that we have seen examples of matrices, and scalars in previous examples, a `Tensor` is a multi-dumensional matrix, a step-up from the examples given previously."
   ]
  },
  {
   "cell_type": "code",
   "execution_count": 26,
   "id": "521ebf90-945a-43c3-b8d9-c6957bc413af",
   "metadata": {},
   "outputs": [
    {
     "data": {
      "text/plain": [
       "tensor([[[1, 2, 3],\n",
       "         [4, 5, 6],\n",
       "         [7, 8, 9]]])"
      ]
     },
     "execution_count": 26,
     "metadata": {},
     "output_type": "execute_result"
    }
   ],
   "source": [
    "# Example of a 3x3 Tensor:\n",
    "TENSOR = torch.tensor([[[1, 2, 3],\n",
    "                       [4, 5, 6],\n",
    "                       [7, 8, 9]]])\n",
    "#Output:\n",
    "TENSOR"
   ]
  },
  {
   "cell_type": "markdown",
   "id": "3d9f4d11-1994-4adf-b067-16cabf346013",
   "metadata": {},
   "source": [
    "Notably, when we verify the dimensions of the tensor example, we see an output of 3, because the tensor is in a 3x3 shape\n"
   ]
  },
  {
   "cell_type": "code",
   "execution_count": 29,
   "id": "b3ced867-a33a-4918-9ffa-98a286cfb914",
   "metadata": {},
   "outputs": [
    {
     "data": {
      "text/plain": [
       "3"
      ]
     },
     "execution_count": 29,
     "metadata": {},
     "output_type": "execute_result"
    }
   ],
   "source": [
    "#Check the shape of the Tensor:\n",
    "TENSOR.ndim"
   ]
  },
  {
   "cell_type": "markdown",
   "id": "2c55cc92-d695-43f8-a060-3988da7e37a8",
   "metadata": {},
   "source": [
    "What about this tensor's shape?\n",
    "It will be defined as a one dimensional 3 x 3 tensor as we see below:\n"
   ]
  },
  {
   "cell_type": "code",
   "execution_count": 30,
   "id": "dc859655-6ac9-4209-9789-12971ee19cb8",
   "metadata": {},
   "outputs": [
    {
     "data": {
      "text/plain": [
       "torch.Size([1, 3, 3])"
      ]
     },
     "execution_count": 30,
     "metadata": {},
     "output_type": "execute_result"
    }
   ],
   "source": [
    "# The Tensors shape:\n",
    "TENSOR.shape"
   ]
  }
 ],
 "metadata": {
  "kernelspec": {
   "display_name": "Python 3 (ipykernel)",
   "language": "python",
   "name": "python3"
  },
  "language_info": {
   "codemirror_mode": {
    "name": "ipython",
    "version": 3
   },
   "file_extension": ".py",
   "mimetype": "text/x-python",
   "name": "python",
   "nbconvert_exporter": "python",
   "pygments_lexer": "ipython3",
   "version": "3.10.12"
  }
 },
 "nbformat": 4,
 "nbformat_minor": 5
}
